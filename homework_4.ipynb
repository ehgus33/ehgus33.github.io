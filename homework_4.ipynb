{
 "cells": [
  {
   "cell_type": "markdown",
   "id": "9e1fd000",
   "metadata": {},
   "source": [
    "# Assignment 4"
   ]
  },
  {
   "cell_type": "markdown",
   "id": "00378564",
   "metadata": {},
   "source": [
    "### 2017120012 김도현"
   ]
  },
  {
   "cell_type": "markdown",
   "id": "7604b0c3",
   "metadata": {},
   "source": [
    "1. 다음 문제를 읽고 알맞은 코드를 제시하시오."
   ]
  },
  {
   "cell_type": "markdown",
   "id": "07b73dee",
   "metadata": {},
   "source": [
    "1) "
   ]
  },
  {
   "cell_type": "code",
   "execution_count": 344,
   "id": "beb4c15b",
   "metadata": {},
   "outputs": [
    {
     "name": "stdout",
     "output_type": "stream",
     "text": [
      "pig ham\n",
      "cat dog\n",
      "ham bird\n",
      "dog pig\n"
     ]
    }
   ],
   "source": [
    "with open('s.txt', 'w') as f:\n",
    "    f.write('pig ham\\n')\n",
    "    f.write('cat dog\\n')\n",
    "    f.write('ham bird\\n')\n",
    "    f.write('dog pig')\n",
    "\n",
    "with open('s.txt', 'r') as f:\n",
    "    print(f.read())"
   ]
  },
  {
   "cell_type": "markdown",
   "id": "5d041349",
   "metadata": {},
   "source": [
    "2)"
   ]
  },
  {
   "cell_type": "code",
   "execution_count": 345,
   "id": "dba1f794",
   "metadata": {},
   "outputs": [
    {
     "name": "stdout",
     "output_type": "stream",
     "text": [
      "cat dog\n",
      "dog pig\n",
      "ham bird\n",
      "pig ham\n"
     ]
    }
   ],
   "source": [
    "count = 0\n",
    "\n",
    "with open('s.txt', 'r') as f:                      #s.txt에서 받아서\n",
    "    str_list = f.read().split('\\n')\n",
    "    if str_list.count('') == 1: str_list.remove('')#만약 빈 문자열이 있다면 제거\n",
    "    \n",
    "    str_list.sort()                                #첫번째로 정렬 후\n",
    "    \n",
    "with open('s1.txt', 'w') as f:                     #s1.txt에 기록\n",
    "    for str1 in str_list:\n",
    "        count += 1\n",
    "        \n",
    "        if count == len(str_list):\n",
    "            f.write(str1)\n",
    "        else:\n",
    "            f.write(str1 + '\\n')\n",
    "        \n",
    "with open('s1.txt', 'r') as f:                     #s1.txt 읽기\n",
    "    print(f.read())"
   ]
  },
  {
   "cell_type": "markdown",
   "id": "788c6f68",
   "metadata": {},
   "source": [
    "3)"
   ]
  },
  {
   "cell_type": "code",
   "execution_count": 346,
   "id": "5a678e86",
   "metadata": {},
   "outputs": [
    {
     "name": "stdout",
     "output_type": "stream",
     "text": [
      "ham bird\n",
      "cat dog\n",
      "pig ham\n",
      "dog pig\n"
     ]
    }
   ],
   "source": [
    "count = 0\n",
    "\n",
    "with open('s.txt', 'r') as f:                       #s.txt에서 받아서\n",
    "    str_list = f.read().split('\\n')\n",
    "    if str_list.count('') == 1: str_list.remove('')#만약 빈 문자열이 있다면 제거\n",
    "    str_list.sort(key=lambda x: x[x.index(' ')+1]) #두번째 단어의 첫번째로 정렬 후\n",
    "    \n",
    "with open('s2.txt', 'w') as f:                      #s2.txt에 기록\n",
    "    for str1 in str_list:\n",
    "        count += 1\n",
    "        \n",
    "        if count == len(str_list):\n",
    "            f.write(str1)\n",
    "        else:\n",
    "            f.write(str1 + '\\n')\n",
    "        \n",
    "with open('s2.txt', 'r') as f:                      #s2.txt 읽기\n",
    "    print(f.read())"
   ]
  },
  {
   "cell_type": "markdown",
   "id": "d135d00f",
   "metadata": {},
   "source": [
    "4)"
   ]
  },
  {
   "cell_type": "code",
   "execution_count": 347,
   "id": "86b86299",
   "metadata": {},
   "outputs": [
    {
     "name": "stdout",
     "output_type": "stream",
     "text": [
      "pig ham cat\n",
      "dog ham bird\n",
      "dog pig\n"
     ]
    }
   ],
   "source": [
    "count = 0\n",
    "save = []\n",
    "\n",
    "with open('s.txt', 'r') as f:                          #s.txt에서 받아서\n",
    "    str_list = f.read().split()                        #단어별로 나누고\n",
    "\n",
    "\n",
    "with open('s3.txt', 'w') as f:                    \n",
    "    for str1 in str_list:\n",
    "        if len(save) < 3:\n",
    "            save.append(str1)                          #단어를 save에 하나씩 모아서\n",
    "            \n",
    "            if len(save) == 3:                         # 3개가 되면 기록\n",
    "                f.write(' '.join(save) + '\\n')         #s3.txt에 기록\n",
    "                save = []                              # 초기화\n",
    "    \n",
    "    f.write(' '.join(save))                            # 남은 단어들 모으기\n",
    "                \n",
    "#         else:\n",
    "#             f.write(str1 + '\\n')\n",
    "        \n",
    "with open('s3.txt', 'r') as f:                    #s3.txt 읽기\n",
    "    print(f.read())"
   ]
  },
  {
   "cell_type": "markdown",
   "id": "2cb6a0a3",
   "metadata": {},
   "source": [
    "2. 다음과 같은 조건들을 참고하여 회원 가입 및 로그인 프로그램을 작성하시오."
   ]
  },
  {
   "cell_type": "markdown",
   "id": "0edd0de2",
   "metadata": {},
   "source": [
    "1)"
   ]
  },
  {
   "cell_type": "code",
   "execution_count": 351,
   "id": "cfd1f423",
   "metadata": {},
   "outputs": [],
   "source": [
    "import hashlib\n",
    "\n",
    "# 2) Sign Up\n",
    "def Sign_Up():\n",
    "    explain = ['ID', 'Password', 'Name', 'School']\n",
    "    info_list = [] \n",
    "    while True:\n",
    "        ID = input('Please enter ID : ')\n",
    "        \n",
    "        if ID not in save_info.keys():\n",
    "            info_list.append(ID)\n",
    "            break\n",
    "        \n",
    "        print('Sorry, the entered ID is already uesd')\n",
    "        \n",
    "    for i in range(1, len(explain)):\n",
    "        info_list.append(input(f'Please enter {explain[i]} : '))\n",
    "        \n",
    "    \n",
    "    \n",
    "    # password 암호 함수 호출\n",
    "    info_list[1] = Encryption(info_list[1])\n",
    "    \n",
    "    \n",
    "    # access.txt에 저장\n",
    "    info_str = '[{}]: [{}], [{}], [{}]'.format(info_list[0], info_list[1],\n",
    "                                               info_list[2], info_list[3])\n",
    "    \n",
    "    with open('access.txt', 'a') as f:\n",
    "        f.write(info_str + '\\n')\n",
    "\n",
    "# password 암호화\n",
    "def Encryption(password):\n",
    "    return hashlib.sha256(password.encode()).hexdigest()\n",
    "\n",
    "# 3) Sign In\n",
    "def Sign_In():\n",
    "    # ID 입력 확인\n",
    "    while True:\n",
    "        ID_input = input('ID :')\n",
    "        if ID_input not in save_info.keys():\n",
    "            print('Sorry, you are not a registered member.')\n",
    "        else:\n",
    "            break\n",
    "    \n",
    "    # PASSWORD 입력 확인\n",
    "    while True:\n",
    "        pd_input = Encryption(input('password : '))\n",
    "        \n",
    "        if pd_input == save_info[ID_input]:\n",
    "            print(f\"Hello [{ID_input}]\")\n",
    "            break\n",
    "        else:\n",
    "            print('Sorry, the entered password is not correct.')\n",
    "        \n",
    "        \n",
    "        \n",
    "    \n",
    "    \n",
    "    \n",
    "# 1)\n",
    "start = '''\n",
    "Welcome to Our Service\n",
    "\n",
    "A. Sign Up\n",
    "B. Sign In\n",
    "C. Quit\n",
    "\n",
    "'''"
   ]
  },
  {
   "cell_type": "code",
   "execution_count": 352,
   "id": "448de85a",
   "metadata": {},
   "outputs": [
    {
     "name": "stdout",
     "output_type": "stream",
     "text": [
      "저장된 인적사항 :  {'rose': '0ffe1abd1a08215353c233d6e009613e95eec4253832a761af28ff37ac5a150c', 'snow': 'edee29f882543b956620b26d0ee0e7e950399b1c4222f5de05e06425b4c995e9', 'winter': '318aee3fed8c9d040d35a7fc1fa776fb31303833aa2de885354ddf3d44d8fb69', 'just': '79f06f8fde333461739f220090a23cb2a79f6d714bee100d0e4b4af249294619', 'flower': 'c1f330d0aff31c1c87403f1e4347bcc21aff7c179908723535f2b31723702525', 'ust': 'd7697570462f7562b83e81258de0f1e41832e98072e44c36ec8efec46786e24e', 'msc': '41c991eb6a66242c0454191244278183ce58cf4a6bcd372f799e4b9cc01886af'}\n",
      "\n",
      "Welcome to Our Service\n",
      "\n",
      "A. Sign Up\n",
      "B. Sign In\n",
      "C. Quit\n",
      "\n",
      "d\n",
      "error, Please enter the correct value.\n",
      "\n",
      "Welcome to Our Service\n",
      "\n",
      "A. Sign Up\n",
      "B. Sign In\n",
      "C. Quit\n",
      "\n",
      "A\n",
      "Please enter ID : rose\n",
      "Sorry, the entered ID is already uesd\n",
      "Please enter ID : king\n",
      "Please enter Password : 8888\n",
      "Please enter Name : 사나\n",
      "Please enter School : koreatech\n"
     ]
    }
   ],
   "source": [
    "# 저장된 아이디, 비밀번호 목록\n",
    "with open('access.txt', 'r') as f:\n",
    "    s = f.readlines()\n",
    "\n",
    "save_info = dict()\n",
    "\n",
    "for i in s:\n",
    "    s1_index = i.index('[')\n",
    "    f1_index = i.index(']')\n",
    "    \n",
    "    s2_index = i.index('[', f1_index + 1)\n",
    "    f2_index = i.index(']', f1_index + 1)\n",
    "    \n",
    "    ID = i[s1_index + 1 : f1_index]\n",
    "    pd = i[s2_index + 1 : f2_index]\n",
    "    \n",
    "    save_info[ID] = pd\n",
    "\n",
    "print('저장된 인적사항 : ', save_info)\n",
    "\n",
    "# 실행부분 A\n",
    "while True:\n",
    "    command = input(start)\n",
    "\n",
    "    if command == 'A' : Sign_Up() ; break\n",
    "    elif command == 'B' : Sign_In() ; break\n",
    "    elif command == 'C' : break\n",
    "    else: \n",
    "        print('error, Please enter the correct value.')"
   ]
  },
  {
   "cell_type": "code",
   "execution_count": 353,
   "id": "43d412be",
   "metadata": {},
   "outputs": [
    {
     "name": "stdout",
     "output_type": "stream",
     "text": [
      "저장된 인적사항 :  {'rose': '0ffe1abd1a08215353c233d6e009613e95eec4253832a761af28ff37ac5a150c', 'snow': 'edee29f882543b956620b26d0ee0e7e950399b1c4222f5de05e06425b4c995e9', 'winter': '318aee3fed8c9d040d35a7fc1fa776fb31303833aa2de885354ddf3d44d8fb69', 'just': '79f06f8fde333461739f220090a23cb2a79f6d714bee100d0e4b4af249294619', 'flower': 'c1f330d0aff31c1c87403f1e4347bcc21aff7c179908723535f2b31723702525', 'ust': 'd7697570462f7562b83e81258de0f1e41832e98072e44c36ec8efec46786e24e', 'msc': '41c991eb6a66242c0454191244278183ce58cf4a6bcd372f799e4b9cc01886af', 'king': '2926a2731f4b312c08982cacf8061eb14bf65c1a87cc5d70e864e079c6220731'}\n",
      "\n",
      "Welcome to Our Service\n",
      "\n",
      "A. Sign Up\n",
      "B. Sign In\n",
      "C. Quit\n",
      "\n",
      "B\n",
      "ID :bing\n",
      "Sorry, you are not a registered member.\n",
      "ID :king\n",
      "password : 1111\n",
      "Sorry, the entered password is not correct.\n",
      "password : 8888\n",
      "Hello [king]\n"
     ]
    }
   ],
   "source": [
    "# 저장된 아이디, 비밀번호 목록\n",
    "with open('access.txt', 'r') as f:\n",
    "    s = f.readlines()\n",
    "\n",
    "save_info = dict()\n",
    "\n",
    "for i in s:\n",
    "    s1_index = i.index('[')\n",
    "    f1_index = i.index(']')\n",
    "    \n",
    "    s2_index = i.index('[', f1_index + 1)\n",
    "    f2_index = i.index(']', f1_index + 1)\n",
    "    \n",
    "    ID = i[s1_index + 1 : f1_index]\n",
    "    pd = i[s2_index + 1 : f2_index]\n",
    "    \n",
    "    save_info[ID] = pd\n",
    "\n",
    "print('저장된 인적사항 : ', save_info)\n",
    "\n",
    "# 실행부분 B\n",
    "while True:\n",
    "    command = input(start)\n",
    "\n",
    "    if command == 'A' : Sign_Up() ; break\n",
    "    elif command == 'B' : Sign_In() ; break\n",
    "    elif command == 'C' : break\n",
    "    else: \n",
    "        print('error, Please enter the correct value.')"
   ]
  },
  {
   "cell_type": "code",
   "execution_count": 354,
   "id": "0b2eae63",
   "metadata": {},
   "outputs": [
    {
     "name": "stdout",
     "output_type": "stream",
     "text": [
      "저장된 인적사항 :  {'rose': '0ffe1abd1a08215353c233d6e009613e95eec4253832a761af28ff37ac5a150c', 'snow': 'edee29f882543b956620b26d0ee0e7e950399b1c4222f5de05e06425b4c995e9', 'winter': '318aee3fed8c9d040d35a7fc1fa776fb31303833aa2de885354ddf3d44d8fb69', 'just': '79f06f8fde333461739f220090a23cb2a79f6d714bee100d0e4b4af249294619', 'flower': 'c1f330d0aff31c1c87403f1e4347bcc21aff7c179908723535f2b31723702525', 'ust': 'd7697570462f7562b83e81258de0f1e41832e98072e44c36ec8efec46786e24e', 'msc': '41c991eb6a66242c0454191244278183ce58cf4a6bcd372f799e4b9cc01886af', 'king': '2926a2731f4b312c08982cacf8061eb14bf65c1a87cc5d70e864e079c6220731'}\n",
      "\n",
      "Welcome to Our Service\n",
      "\n",
      "A. Sign Up\n",
      "B. Sign In\n",
      "C. Quit\n",
      "\n",
      "C\n"
     ]
    }
   ],
   "source": [
    "# 저장된 아이디, 비밀번호 목록\n",
    "with open('access.txt', 'r') as f:\n",
    "    s = f.readlines()\n",
    "\n",
    "save_info = dict()\n",
    "\n",
    "for i in s:\n",
    "    s1_index = i.index('[')\n",
    "    f1_index = i.index(']')\n",
    "    \n",
    "    s2_index = i.index('[', f1_index + 1)\n",
    "    f2_index = i.index(']', f1_index + 1)\n",
    "    \n",
    "    ID = i[s1_index + 1 : f1_index]\n",
    "    pd = i[s2_index + 1 : f2_index]\n",
    "    \n",
    "    save_info[ID] = pd\n",
    "\n",
    "print('저장된 인적사항 : ', save_info)\n",
    "\n",
    "# 실행부분 C\n",
    "while True:\n",
    "    command = input(start)\n",
    "\n",
    "    if command == 'A' : Sign_Up() ; break\n",
    "    elif command == 'B' : Sign_In() ; break\n",
    "    elif command == 'C' : break\n",
    "    else: \n",
    "        print('error, Please enter the correct value.')"
   ]
  },
  {
   "cell_type": "markdown",
   "id": "bd7741e5",
   "metadata": {},
   "source": [
    "3. range() 함수와 유사한 frange() 함수를 다음 조건을 참고하여 만드시오."
   ]
  },
  {
   "cell_type": "code",
   "execution_count": 355,
   "id": "f7931b31",
   "metadata": {},
   "outputs": [],
   "source": [
    "def frange(start, stop = -1, step = 0.1):\n",
    "    if stop == -1:\n",
    "        start, stop = 0.0, start\n",
    "        \n",
    "    f_list = []\n",
    "    i = 0\n",
    "    n = len(str(step)) - 1\n",
    "    \n",
    "    while True:\n",
    "        f = start + step * i\n",
    "        f_list.append(round(f, n)) # 부동소수점 이상 제거 ex. 0.1 + 0.2 = 0.30000004\n",
    "        \n",
    "        i += 1\n",
    "        \n",
    "        if start + step * i >= stop: break\n",
    "    \n",
    "    return f_list"
   ]
  },
  {
   "cell_type": "code",
   "execution_count": 356,
   "id": "4b106636",
   "metadata": {},
   "outputs": [
    {
     "name": "stdout",
     "output_type": "stream",
     "text": [
      "[0.0, 0.1, 0.2, 0.3, 0.4]\n",
      "[1.0, 1.1, 1.2, 1.3, 1.4, 1.5, 1.6, 1.7, 1.8, 1.9]\n",
      "[2.2, 2.7, 3.2, 3.7]\n"
     ]
    }
   ],
   "source": [
    "print(frange(0.5))\n",
    "print(frange(1.0, 2.0))\n",
    "print(frange(2.2, 4.0, 0.5))"
   ]
  },
  {
   "cell_type": "markdown",
   "id": "5b335fd9",
   "metadata": {},
   "source": [
    "4. 가변인수를 받는 함수 sum()을 다음과 같은 조건을 참고하여 구현하시오"
   ]
  },
  {
   "cell_type": "code",
   "execution_count": 357,
   "id": "00a2acb2",
   "metadata": {},
   "outputs": [],
   "source": [
    "def sum(*args):\n",
    "    result = 0\n",
    "    \n",
    "    for num in args: result += num\n",
    "    \n",
    "    return result"
   ]
  },
  {
   "cell_type": "code",
   "execution_count": 358,
   "id": "09d71993",
   "metadata": {},
   "outputs": [
    {
     "name": "stdout",
     "output_type": "stream",
     "text": [
      "0\n",
      "3\n",
      "15\n",
      "5\n"
     ]
    }
   ],
   "source": [
    "print(sum())\n",
    "print(sum(1,2))\n",
    "print(sum(1,2,3,4,5))\n",
    "print(sum(1,5,7,2,-10))"
   ]
  },
  {
   "cell_type": "markdown",
   "id": "5a6bd7a8",
   "metadata": {},
   "source": [
    "5. 여러 단어로 이루어진 문자열을 입력받아 각 단어의 첫글자로 이루어진 단어를 대문자로 출력하는 myinitial() 함수를 다음 조건을 참고하여 작성하시오."
   ]
  },
  {
   "cell_type": "code",
   "execution_count": 359,
   "id": "599f36ee",
   "metadata": {},
   "outputs": [],
   "source": [
    "def up_alpha(alpha):\n",
    "    alpha[0].upper()\n",
    "\n",
    "def myinitial(Alphabet):\n",
    "    alpha = Alphabet.split()\n",
    "    up_alpha = list(map(lambda x: x[0].upper(), alpha))\n",
    "    \n",
    "    return ''.join(up_alpha)"
   ]
  },
  {
   "cell_type": "code",
   "execution_count": 360,
   "id": "5c482023",
   "metadata": {},
   "outputs": [
    {
     "name": "stdout",
     "output_type": "stream",
     "text": [
      "ASAP\n",
      "IGTTM\n",
      "HP\n"
     ]
    }
   ],
   "source": [
    "print(myinitial(\"as soon as possible\"))\n",
    "print(myinitial(\"i go to the moon\"))\n",
    "print(myinitial(\"hello python\"))"
   ]
  },
  {
   "cell_type": "markdown",
   "id": "f6eb7a28",
   "metadata": {},
   "source": [
    "6. 음이 아닌 정수 n를 입력받으면 n! (factorial)을 계산하는 myfact() 함수를 재귀적 함수로 구현하시오."
   ]
  },
  {
   "cell_type": "code",
   "execution_count": 361,
   "id": "8076d0f0",
   "metadata": {},
   "outputs": [],
   "source": [
    "def myfact(n):\n",
    "    return n * myfact(n-1) if n != 0 else 1"
   ]
  },
  {
   "cell_type": "code",
   "execution_count": 362,
   "id": "41b8da53",
   "metadata": {},
   "outputs": [
    {
     "data": {
      "text/plain": [
       "402387260077093773543702433923003985719374864210714632543799910429938512398629020592044208486969404800479988610197196058631666872994808558901323829669944590997424504087073759918823627727188732519779505950995276120874975462497043601418278094646496291056393887437886487337119181045825783647849977012476632889835955735432513185323958463075557409114262417474349347553428646576611667797396668820291207379143853719588249808126867838374559731746136085379534524221586593201928090878297308431392844403281231558611036976801357304216168747609675871348312025478589320767169132448426236131412508780208000261683151027341827977704784635868170164365024153691398281264810213092761244896359928705114964975419909342221566832572080821333186116811553615836546984046708975602900950537616475847728421889679646244945160765353408198901385442487984959953319101723355556602139450399736280750137837615307127761926849034352625200015888535147331611702103968175921510907788019393178114194545257223865541461062892187960223838971476088506276862967146674697562911234082439208160153780889893964518263243671616762179168909779911903754031274622289988005195444414282012187361745992642956581746628302955570299024324153181617210465832036786906117260158783520751516284225540265170483304226143974286933061690897968482590125458327168226458066526769958652682272807075781391858178889652208164348344825993266043367660176999612831860788386150279465955131156552036093988180612138558600301435694527224206344631797460594682573103790084024432438465657245014402821885252470935190620929023136493273497565513958720559654228749774011413346962715422845862377387538230483865688976461927383814900140767310446640259899490222221765904339901886018566526485061799702356193897017860040811889729918311021171229845901641921068884387121855646124960798722908519296819372388642614839657382291123125024186649353143970137428531926649875337218940694281434118520158014123344828015051399694290153483077644569099073152433278288269864602789864321139083506217095002597389863554277196742822248757586765752344220207573630569498825087968928162753848863396909959826280956121450994871701244516461260379029309120889086942028510640182154399457156805941872748998094254742173582401063677404595741785160829230135358081840096996372524230560855903700624271243416909004153690105933983835777939410970027753472000000000000000000000000000000000000000000000000000000000000000000000000000000000000000000000000000000000000000000000000000000000000000000000000000000000000000000000000000000000000000000000000000000000000000000000000000000000000000000000000000000000"
      ]
     },
     "execution_count": 362,
     "metadata": {},
     "output_type": "execute_result"
    }
   ],
   "source": [
    "myfact(1000)"
   ]
  },
  {
   "cell_type": "markdown",
   "id": "028a0687",
   "metadata": {},
   "source": [
    "7. (서술형) import string 과 from string import * 의 차이점을 설명하시오."
   ]
  },
  {
   "cell_type": "markdown",
   "id": "7ea1b5de",
   "metadata": {},
   "source": [
    "전자는 현재 로컬 이름공간에 string 만 들어오지만, 후자는 string과 함께 string 가지고 있는 이름공간에 모든 변수, 함수들이 다 로컬 이름공간에 들어옵니다."
   ]
  },
  {
   "cell_type": "markdown",
   "id": "afab10ca",
   "metadata": {},
   "source": [
    "## [Incremental Project 문제]"
   ]
  },
  {
   "cell_type": "code",
   "execution_count": 363,
   "id": "4cef87f1",
   "metadata": {},
   "outputs": [],
   "source": [
    "# 기존 Assignment 3 까지\n",
    "\n",
    "#1 URL 가져오기.\n",
    "import requests\n",
    "import string\n",
    "\n",
    "\n",
    "def make_dict(source):\n",
    "    source = source.replace('\\n','') # 들여쓰기 제거\n",
    "    source = source.replace('\\t','') # Tap 제거\n",
    "    source = ' '.join(source.split()) # 중복 공백문자 제거\n",
    "\n",
    "    front_index, back_index, str_start, str_end = 0, 0, 0, 0\n",
    "\n",
    "    index = 0\n",
    "    str_list = []\n",
    "\n",
    "    switch = 1 # script 제거하기 위한 스위치 / 1 - On , 0 - Off\n",
    "\n",
    "    for i in source:\n",
    "    \n",
    "        #인지 부분\n",
    "        if i == '<':\n",
    "            front_index = index + 1      # < > 안의 문자확인을 위한 인덱스 저장\n",
    "        \n",
    "            # script, style, url 를 만나면 스위치=0 OFF\n",
    "            if source[front_index : front_index + 6] == 'script': switch = 0\n",
    "            elif source[front_index : front_index + 5] == 'style': switch = 0\n",
    "            elif source[front_index : front_index + 3] == 'url': switch = 0\n",
    "        \n",
    "        \n",
    "        elif i == '>':\n",
    "            back_index = index       # < > 안의 문자확인을 위한 인덱스 저장\n",
    "        \n",
    "            # /script, /style, /url를 만나면 스위치=1 ON\n",
    "            if source[back_index - 8 : back_index + 1] == '</script>': switch = 1\n",
    "            elif source[back_index - 7 : back_index + 1] == '</style>': switch = 1\n",
    "            elif source[back_index - 5 : back_index + 1] == '</url>': switch = 1\n",
    "        \n",
    "            elif switch == 1 : str_start = back_index + 1\n",
    "            # 스위치 ON 이고 '>'만났기에 문자열 시작으로 그 때의 인덱스 저장    \n",
    "    \n",
    "        \n",
    "        \n",
    "    \n",
    "        if str_start != 0 and i == '<':  # 스위치 0n 이고 '<' 만나면\n",
    "            str_end = index # 문자열 끝이므로 그 때의 인덱스 저장\n",
    "        \n",
    "            #삽입 부분\n",
    "            if source[str_start : str_end] != '' and source[str_start : str_end] != ' ':  # 비어있는 값 삭제\n",
    "                str_list.append(source[str_start : str_end]) # 시작 인덱스 ~ 끝 인덱스\n",
    "        \n",
    "            #초기화\n",
    "            str_start = 0\n",
    "            str_end = 0        \n",
    "    \n",
    "        index += 1\n",
    "\n",
    "\n",
    "    # 추가 부분 : &lt, &gt, &middot 도 없애기\n",
    "    for s in str_list:\n",
    "        if s[0] == '&':\n",
    "            str_list.remove(s)\n",
    "        if '&nbsp' in s:\n",
    "            str_list.remove(s)\n",
    "\n",
    "\n",
    "        \n",
    "        \n",
    "        \n",
    "    # 구두문자 제거 부분\n",
    "    for i in range(len(str_list)):\n",
    "        str_list[i] = str_list[i].translate(str.maketrans('','', string.punctuation))\n",
    "    \n",
    "    true_str =[]\n",
    "    f_index = 0\n",
    "    \n",
    "    #텍스트 문자열 -> 순수 텍스트 문자열\n",
    "    for str1 in str_list:\n",
    "        switch = 1\n",
    "        for i in range(len(str1)):\n",
    "            if switch != 0 and str1[i] != ' ':\n",
    "                f_index = i\n",
    "                switch = 0\n",
    "        \n",
    "            elif str1[i] == ' ':\n",
    "                true_str.append(str1[f_index:i])\n",
    "                switch = 1\n",
    "            \n",
    "            if i == len(str1) - 1:\n",
    "                true_str.append(str1[f_index:i+1])\n",
    "\n",
    "    # 순수 텍스트 문자열 -> 순수 텍스트 빈도 dict\n",
    "    str_dict = dict()\n",
    "\n",
    "    for i in range(len(true_str)):\n",
    "        if true_str[i] not in str_dict: str_dict[true_str[i]] = 1\n",
    "        else:\n",
    "            str_dict[true_str[i]] = str_dict.get(true_str[i]) + 1\n",
    "    \n",
    "    # 구두문자 제거하면서 생긴 빈 '' 값 제거\n",
    "    if '' in str_dict.keys():\n",
    "        del(str_dict[''])\n",
    "    \n",
    "    return str_dict"
   ]
  },
  {
   "cell_type": "markdown",
   "id": "9d0edccb",
   "metadata": {},
   "source": [
    "1) 불용어 제거"
   ]
  },
  {
   "cell_type": "code",
   "execution_count": 364,
   "id": "505a6a58",
   "metadata": {},
   "outputs": [],
   "source": [
    "req_bool = requests.get('https://raw.githubusercontent.com/stopwords-iso/stopwords-ko/master/stopwords-ko.txt')\n",
    "\n",
    "bool_list2 = req_bool.text.split()"
   ]
  },
  {
   "cell_type": "code",
   "execution_count": 365,
   "id": "d2549356",
   "metadata": {},
   "outputs": [],
   "source": [
    "# 1. 영어\n",
    "def bool_del(str_dict, bool_list2 = bool_list2):\n",
    "    with open('stop_words_english.txt', 'rt', encoding='UTF8') as f:\n",
    "        bool_list = f.read().split()\n",
    "    \n",
    "    for str1 in bool_list:\n",
    "        if str1 in str_dict.keys():\n",
    "#             print(str1)\n",
    "            del(str_dict[str1]) \n",
    "        \n",
    "# 2. 한글\n",
    "    for str2 in bool_list2:\n",
    "        if str2 in str_dict.keys():\n",
    "#             print(str2)\n",
    "            del(str_dict[str2]) "
   ]
  },
  {
   "cell_type": "markdown",
   "id": "796e7cb8",
   "metadata": {},
   "source": [
    "2) HTML 소스 파일 저장"
   ]
  },
  {
   "cell_type": "code",
   "execution_count": 366,
   "id": "0b0ad640",
   "metadata": {},
   "outputs": [],
   "source": [
    "#2) HTML 소스 파일 저장\n",
    "req1 = requests.get('https://store.steampowered.com/?l=koreana') #게임\n",
    "source1 = req1.text\n",
    "\n",
    "req2 = requests.get('https://sports.news.naver.com/index.nhn')   # 스포츠\n",
    "source2 = req2.text\n",
    "\n",
    "req3 = requests.get('https://www.science.org/news')            # 과학 저널\n",
    "source3 = req3.text\n",
    "\n",
    "req4 = requests.get('https://www.vogue.co.kr/')                # 패션 사이트\n",
    "source4 = req4.text\n",
    "\n",
    "req5 = requests.get('https://www.jobplanet.co.kr/contents')    # 창업 취업 사이트\n",
    "source5 = req5.text\n",
    "\n",
    "\n",
    "with open('store.steampowered.com.html', 'w', encoding = 'UTF-8') as f:\n",
    "    f.write(req1.text)\n",
    "    \n",
    "with open('sports.news.naver.com.html', 'w', encoding = 'UTF-8') as f:\n",
    "    f.write(req2.text)\n",
    "\n",
    "with open('www.science.org.html', 'w', encoding = 'UTF-8') as f:\n",
    "    f.write(req3.text)\n",
    "\n",
    "with open('www.vogue.co.kr.html', 'w', encoding = 'UTF-8') as f:\n",
    "    f.write(req4.text)\n",
    "\n",
    "with open('www.jobplanet.co.kr.html', 'w', encoding = 'UTF-8') as f:\n",
    "    f.write(req5.text)"
   ]
  },
  {
   "cell_type": "markdown",
   "id": "41ffa9ad",
   "metadata": {},
   "source": [
    "3~4) pickle 파일 만들기"
   ]
  },
  {
   "cell_type": "code",
   "execution_count": 367,
   "id": "238f4755",
   "metadata": {},
   "outputs": [],
   "source": [
    "dict1 = make_dict(source1)\n",
    "bool_del(dict1)\n",
    "\n",
    "dict2 = make_dict(source2)\n",
    "bool_del(dict2)\n",
    "\n",
    "dict3 = make_dict(source3)\n",
    "bool_del(dict3)\n",
    "\n",
    "dict4 = make_dict(source4)\n",
    "bool_del(dict4)\n",
    "\n",
    "dict5 = make_dict(source5)\n",
    "bool_del(dict5)"
   ]
  },
  {
   "cell_type": "code",
   "execution_count": 368,
   "id": "7fed62cc",
   "metadata": {},
   "outputs": [],
   "source": [
    "#3~4) pickle \n",
    "import pickle\n",
    "\n",
    "with open('store.steampowered.com.pickle', 'wb') as f:\n",
    "    pickle.dump(dict1, f)\n",
    "    \n",
    "with open('sports.news.naver.com.pickle', 'wb') as f:\n",
    "    pickle.dump(dict2, f)\n",
    "    \n",
    "with open('www.science.org.pickle', 'wb') as f:\n",
    "    pickle.dump(dict3, f)\n",
    "    \n",
    "with open('www.vogue.co.kr.pickle', 'wb') as f:\n",
    "    pickle.dump(dict4, f)\n",
    "\n",
    "with open('www.jobplanet.co.kr.pickle', 'wb') as f:\n",
    "    pickle.dump(dict5, f)"
   ]
  },
  {
   "cell_type": "markdown",
   "id": "f66c17d6",
   "metadata": {},
   "source": [
    "5) 다시 pickle 로드 후 가장 많은 단어 3개 뽑기"
   ]
  },
  {
   "cell_type": "code",
   "execution_count": 369,
   "id": "1f3b99e6",
   "metadata": {},
   "outputs": [],
   "source": [
    "with open('store.steampowered.com.pickle', 'rb') as f:\n",
    "    pickle_dict1 = pickle.load(f)\n",
    "    \n",
    "with open('sports.news.naver.com.pickle', 'rb') as f:\n",
    "    pickle_dict2 = pickle.load(f)\n",
    "    \n",
    "with open('www.science.org.pickle', 'rb') as f:\n",
    "    pickle_dict3 = pickle.load(f)\n",
    "    \n",
    "with open('www.vogue.co.kr.pickle', 'rb') as f:\n",
    "    pickle_dict4 = pickle.load(f)\n",
    "\n",
    "with open('www.jobplanet.co.kr.pickle', 'rb') as f:\n",
    "    pickle_dict5 = pickle.load(f)"
   ]
  },
  {
   "cell_type": "code",
   "execution_count": 370,
   "id": "73c207f9",
   "metadata": {},
   "outputs": [
    {
     "data": {
      "text/plain": [
       "True"
      ]
     },
     "execution_count": 370,
     "metadata": {},
     "output_type": "execute_result"
    }
   ],
   "source": [
    "pickle_dict1 == dict1"
   ]
  },
  {
   "cell_type": "code",
   "execution_count": 371,
   "id": "8be3d556",
   "metadata": {},
   "outputs": [],
   "source": [
    "def find_top3(dict_): # 단어뽑기\n",
    "    new_list = []\n",
    "    for key, value in dict_.items():\n",
    "        new_list.append((key, value))\n",
    "    \n",
    "    new_list.sort(key=lambda x: x[1], reverse = True)\n",
    "    print('----------------------')\n",
    "    print('top 1 : ', new_list[0])\n",
    "    print('top 2 : ', new_list[1])\n",
    "    print('top 3 : ', new_list[2])\n",
    "    return new_list"
   ]
  },
  {
   "cell_type": "code",
   "execution_count": 372,
   "id": "2ac68d2c",
   "metadata": {},
   "outputs": [
    {
     "name": "stdout",
     "output_type": "stream",
     "text": [
      "----------------------\n",
      "top 1 :  ('₩', 69)\n",
      "top 2 :  ('모든', 18)\n",
      "top 3 :  ('개발자', 15)\n",
      "----------------------\n",
      "top 1 :  ('재생시간', 20)\n",
      "top 2 :  ('원', 6)\n",
      "top 3 :  ('네이버', 5)\n",
      "----------------------\n",
      "top 1 :  ('2021', 39)\n",
      "top 2 :  ('Nov', 35)\n",
      "top 3 :  ('By', 33)\n",
      "----------------------\n",
      "top 1 :  ('Fashion', 12)\n",
      "top 2 :  ('Beauty', 10)\n",
      "top 3 :  ('Living', 7)\n",
      "----------------------\n",
      "top 1 :  ('리뷰', 39)\n",
      "top 2 :  ('기업', 20)\n",
      "top 3 :  ('추천', 15)\n"
     ]
    }
   ],
   "source": [
    "dict_list = []\n",
    "\n",
    "dict_list.append(pickle_dict1)\n",
    "dict_list.append(pickle_dict2)\n",
    "dict_list.append(pickle_dict3)\n",
    "dict_list.append(pickle_dict4)\n",
    "dict_list.append(pickle_dict5)\n",
    "\n",
    "top_list = [find_top3(d) for d in dict_list]"
   ]
  },
  {
   "cell_type": "markdown",
   "id": "b1905f0b",
   "metadata": {},
   "source": [
    "6) 검색엔진 코딩"
   ]
  },
  {
   "cell_type": "code",
   "execution_count": 373,
   "id": "5f6e84e2",
   "metadata": {},
   "outputs": [],
   "source": [
    "# 불용어 처리\n",
    "req_bool = requests.get('https://raw.githubusercontent.com/stopwords-iso/stopwords-ko/master/stopwords-ko.txt')\n",
    "\n",
    "bool_list2 = req_bool.text.split()\n",
    "\n",
    "def bool_del_search(search, bool_list2 = bool_list2):\n",
    "    with open('stop_words_english.txt', 'rt', encoding='UTF8') as f:\n",
    "        bool_list = f.read().split()\n",
    "    \n",
    "    search_copy = search.copy()\n",
    "    \n",
    "    for s in search_copy:\n",
    "        if s in bool_list: search.remove(s)\n",
    "        if s in bool_list2: search.remove(s)  \n",
    "    \n",
    "    return search"
   ]
  },
  {
   "cell_type": "code",
   "execution_count": 374,
   "id": "f1ff997e",
   "metadata": {},
   "outputs": [],
   "source": [
    "# 유사도 [빈도수]\n",
    "URL_list = ['https://store.steampowered.com/?l=koreana',\n",
    "            'https://sports.news.naver.com/index.nhn',\n",
    "            'https://www.science.org/news',\n",
    "            'https://www.vogue.co.kr/',\n",
    "            'https://www.jobplanet.co.kr/contents']\n",
    "\n",
    "def rank(search):\n",
    "    rank_score = [0.1] * 5\n",
    "    count = -1\n",
    "    \n",
    "    for dict_list in top_list:\n",
    "        count += 1\n",
    "        for words in dict_list:\n",
    "            for s in search:\n",
    "                if s == words[0]: rank_score[count] += words[1]\n",
    "    \n",
    "    print('유사도 점수(1순위): ',rank_score)                \n",
    "    \n",
    "    return rank2(rank_score)\n",
    "\n",
    "\n",
    "# 유사도2 [단어의 연관성] Google Trends에 나온 관련 순위를 리스트업 했습니다.\n",
    "'''\n",
    "사이트 1 = 게임\n",
    "사이트 2 = 스포츠\n",
    "사이트 3 = 과학저널\n",
    "사이트 4 = 패션\n",
    "사이트 5 = 창업, 취업 사이트\n",
    "'''\n",
    "similar = [ ['오징어게임', '무료게임', '머니게임', '와플래시', '게임추천', '게임'],\n",
    "            ['네이버스포츠','스포츠', '토토', '스포츠티비', '라이브', '중계'],\n",
    "            ['생명', '과학', '사이언스', '대학교', '실험', '기술인', '미래'],\n",
    "            ['패션', '남자', '여자', '디자인', '여름', '스트릿','디자이너'],\n",
    "            ['지원', '창업', '스타트업', '청년', '계획서', '돈', '취업', '제도'] ]\n",
    "\n",
    "def rank2(rank_score):\n",
    "    count = -1\n",
    "    \n",
    "    for word_list in similar:\n",
    "        count += 1\n",
    "        for word in word_list:\n",
    "            for s in search:\n",
    "                if s == word: rank_score[count] += 0.3\n",
    "    \n",
    "    print('유사도 점수(1순위 + 2순위): ',rank_score)                \n",
    "    \n",
    "    return url_choice(rank_score)\n",
    "    \n",
    "\n",
    "def url_choice(rank_score):\n",
    "    print('--------추천링크---------')\n",
    "    \n",
    "    while True:\n",
    "        n = rank_score.index(max(rank_score))\n",
    "        \n",
    "        print(URL_list[n])\n",
    "        \n",
    "        rank_score[n] = 0\n",
    "        \n",
    "        if rank_score == [0,0,0,0,0]: break"
   ]
  },
  {
   "cell_type": "code",
   "execution_count": 378,
   "id": "11276bed",
   "metadata": {},
   "outputs": [
    {
     "name": "stdout",
     "output_type": "stream",
     "text": [
      "검색어를 입력하세요.대학교 취업\n",
      "유사도 점수(1순위):  [0.1, 0.1, 0.1, 0.1, 1.1]\n",
      "유사도 점수(1순위 + 2순위):  [0.1, 0.1, 0.4, 0.1, 1.4000000000000001]\n",
      "--------추천링크---------\n",
      "https://www.jobplanet.co.kr/contents\n",
      "https://www.science.org/news\n",
      "https://store.steampowered.com/?l=koreana\n",
      "https://sports.news.naver.com/index.nhn\n",
      "https://www.vogue.co.kr/\n"
     ]
    }
   ],
   "source": [
    "search = input('검색어를 입력하세요.').split()\n",
    "search = bool_del_search(search)\n",
    "ra = rank(search)"
   ]
  },
  {
   "cell_type": "code",
   "execution_count": 379,
   "id": "36ef159f",
   "metadata": {},
   "outputs": [
    {
     "name": "stdout",
     "output_type": "stream",
     "text": [
      "검색어를 입력하세요.스포츠 중계\n",
      "유사도 점수(1순위):  [6.1, 5.1, 0.1, 0.1, 0.1]\n",
      "유사도 점수(1순위 + 2순위):  [6.1, 5.699999999999999, 0.1, 0.1, 0.1]\n",
      "--------추천링크---------\n",
      "https://store.steampowered.com/?l=koreana\n",
      "https://sports.news.naver.com/index.nhn\n",
      "https://www.science.org/news\n",
      "https://www.vogue.co.kr/\n",
      "https://www.jobplanet.co.kr/contents\n"
     ]
    }
   ],
   "source": [
    "search = input('검색어를 입력하세요.').split()\n",
    "search = bool_del_search(search)\n",
    "ra = rank(search)"
   ]
  },
  {
   "cell_type": "code",
   "execution_count": 377,
   "id": "fa96eecf",
   "metadata": {},
   "outputs": [
    {
     "name": "stdout",
     "output_type": "stream",
     "text": [
      "검색어를 입력하세요.가을 남자 옷 추천\n",
      "유사도 점수(1순위):  [5.1, 0.1, 0.1, 0.1, 15.1]\n",
      "유사도 점수(1순위 + 2순위):  [5.1, 0.1, 0.1, 0.4, 15.1]\n",
      "--------추천링크---------\n",
      "https://www.jobplanet.co.kr/contents\n",
      "https://store.steampowered.com/?l=koreana\n",
      "https://www.vogue.co.kr/\n",
      "https://sports.news.naver.com/index.nhn\n",
      "https://www.science.org/news\n"
     ]
    }
   ],
   "source": [
    "search = input('검색어를 입력하세요.').split()\n",
    "search = bool_del_search(search)\n",
    "ra = rank(search)"
   ]
  },
  {
   "cell_type": "markdown",
   "id": "c00cd0cc",
   "metadata": {},
   "source": [
    "7) 추가로 구현해야 할 점"
   ]
  },
  {
   "cell_type": "markdown",
   "id": "61f438be",
   "metadata": {},
   "source": [
    "상용화 하기 위해서는 유사도2에 단어의 연관성 부분의 similar에 데이터를 충분히 수집해야 합니다. 현재는 Google Trends 홈페이지에 관련 단어들 중 탑 몇개만 유사단어 데이터로 썼기 때문에 아직 미흡하지만, 만약 많은 단어들을 뽑아온다면 유사도 점수가 많이 구분될 것이고 좀 더 정확한 검색이 가능할 것으로 생각합니다.\n",
    "\n",
    "결국 추가로 구현해야 하는 것은 유사단어 데이터를 자동으로 수집해서 스스로 검색력을 키워나갈 알고리즘을 구현해야하고, 사람들이 얼마나 이 단어로 정보를 검색하는지에 대한 정보를 랭크 값으로 넘겨준다면 더 정확해질 것이라고 확신합니다."
   ]
  },
  {
   "cell_type": "markdown",
   "id": "8707c18d",
   "metadata": {},
   "source": [
    "## [느낀점]"
   ]
  },
  {
   "cell_type": "markdown",
   "id": "08528452",
   "metadata": {},
   "source": [
    "오류도 많이 만나고, 가독성을 키운다고는 했지만 아직 미흡했고, 시간과 노력을 들여 많은 오류 끝에 내가 원하는 출력이 나와서 너무 기뻤습니다. 이런걸 느낄 수 있는 일이 너무 좋았고, 빨리 시작하지 않은 것에 대한 아쉬움도 컸습니다.  \n",
    "  \n",
    "이 수업이 끝나더라고 이 수업을 발판 삼아 더 큰 곳으로 가려고 노력하겠습니다. 감사합니다."
   ]
  }
 ],
 "metadata": {
  "kernelspec": {
   "display_name": "Python 3",
   "language": "python",
   "name": "python3"
  },
  "language_info": {
   "codemirror_mode": {
    "name": "ipython",
    "version": 3
   },
   "file_extension": ".py",
   "mimetype": "text/x-python",
   "name": "python",
   "nbconvert_exporter": "python",
   "pygments_lexer": "ipython3",
   "version": "3.8.8"
  }
 },
 "nbformat": 4,
 "nbformat_minor": 5
}
